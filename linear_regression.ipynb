{
 "cells": [
  {
   "cell_type": "code",
   "execution_count": 1,
   "id": "7c460ade-c685-4dcd-b78a-fa5aa0a2efcc",
   "metadata": {},
   "outputs": [],
   "source": [
    "import numpy as np\n",
    "import pandas as pd"
   ]
  },
  {
   "cell_type": "code",
   "execution_count": 2,
   "id": "a86a34a0-ce67-4142-96a5-fa07cc488b24",
   "metadata": {},
   "outputs": [
    {
     "data": {
      "text/html": [
       "<div>\n",
       "<style scoped>\n",
       "    .dataframe tbody tr th:only-of-type {\n",
       "        vertical-align: middle;\n",
       "    }\n",
       "\n",
       "    .dataframe tbody tr th {\n",
       "        vertical-align: top;\n",
       "    }\n",
       "\n",
       "    .dataframe thead th {\n",
       "        text-align: right;\n",
       "    }\n",
       "</style>\n",
       "<table border=\"1\" class=\"dataframe\">\n",
       "  <thead>\n",
       "    <tr style=\"text-align: right;\">\n",
       "      <th></th>\n",
       "      <th>Unnamed: 0</th>\n",
       "      <th>district</th>\n",
       "      <th>rooms</th>\n",
       "      <th>size</th>\n",
       "      <th>level</th>\n",
       "      <th>max_levels</th>\n",
       "      <th>price</th>\n",
       "    </tr>\n",
       "  </thead>\n",
       "  <tbody>\n",
       "    <tr>\n",
       "      <th>0</th>\n",
       "      <td>0</td>\n",
       "      <td>Юнусабадский</td>\n",
       "      <td>3</td>\n",
       "      <td>57.0</td>\n",
       "      <td>4</td>\n",
       "      <td>4</td>\n",
       "      <td>52000.0</td>\n",
       "    </tr>\n",
       "    <tr>\n",
       "      <th>1</th>\n",
       "      <td>1</td>\n",
       "      <td>Яккасарайский</td>\n",
       "      <td>2</td>\n",
       "      <td>52.0</td>\n",
       "      <td>4</td>\n",
       "      <td>5</td>\n",
       "      <td>56000.0</td>\n",
       "    </tr>\n",
       "    <tr>\n",
       "      <th>2</th>\n",
       "      <td>2</td>\n",
       "      <td>Чиланзарский</td>\n",
       "      <td>2</td>\n",
       "      <td>42.0</td>\n",
       "      <td>4</td>\n",
       "      <td>4</td>\n",
       "      <td>37000.0</td>\n",
       "    </tr>\n",
       "    <tr>\n",
       "      <th>3</th>\n",
       "      <td>3</td>\n",
       "      <td>Чиланзарский</td>\n",
       "      <td>3</td>\n",
       "      <td>65.0</td>\n",
       "      <td>1</td>\n",
       "      <td>4</td>\n",
       "      <td>49500.0</td>\n",
       "    </tr>\n",
       "    <tr>\n",
       "      <th>4</th>\n",
       "      <td>4</td>\n",
       "      <td>Чиланзарский</td>\n",
       "      <td>3</td>\n",
       "      <td>70.0</td>\n",
       "      <td>3</td>\n",
       "      <td>5</td>\n",
       "      <td>55000.0</td>\n",
       "    </tr>\n",
       "  </tbody>\n",
       "</table>\n",
       "</div>"
      ],
      "text/plain": [
       "   Unnamed: 0       district  rooms  size  level  max_levels    price\n",
       "0           0   Юнусабадский      3  57.0      4           4  52000.0\n",
       "1           1  Яккасарайский      2  52.0      4           5  56000.0\n",
       "2           2   Чиланзарский      2  42.0      4           4  37000.0\n",
       "3           3   Чиланзарский      3  65.0      1           4  49500.0\n",
       "4           4   Чиланзарский      3  70.0      3           5  55000.0"
      ]
     },
     "execution_count": 2,
     "metadata": {},
     "output_type": "execute_result"
    }
   ],
   "source": [
    "df=pd.read_csv(\"https://raw.githubusercontent.com/anvarnarz/praktikum_datasets/ca6719dea56242762bba73d073a59cb5b898467a/housing_LR.csv\")\n",
    "df.head(5)"
   ]
  },
  {
   "cell_type": "code",
   "execution_count": 3,
   "id": "7dd2c11a-4da7-4ff7-b655-1cec260204c3",
   "metadata": {},
   "outputs": [
    {
     "data": {
      "text/html": [
       "<div>\n",
       "<style scoped>\n",
       "    .dataframe tbody tr th:only-of-type {\n",
       "        vertical-align: middle;\n",
       "    }\n",
       "\n",
       "    .dataframe tbody tr th {\n",
       "        vertical-align: top;\n",
       "    }\n",
       "\n",
       "    .dataframe thead th {\n",
       "        text-align: right;\n",
       "    }\n",
       "</style>\n",
       "<table border=\"1\" class=\"dataframe\">\n",
       "  <thead>\n",
       "    <tr style=\"text-align: right;\">\n",
       "      <th></th>\n",
       "      <th>Unnamed: 0</th>\n",
       "      <th>district</th>\n",
       "      <th>rooms</th>\n",
       "      <th>size</th>\n",
       "      <th>level</th>\n",
       "      <th>max_levels</th>\n",
       "      <th>price</th>\n",
       "    </tr>\n",
       "  </thead>\n",
       "  <tbody>\n",
       "    <tr>\n",
       "      <th>2</th>\n",
       "      <td>2</td>\n",
       "      <td>Чиланзарский</td>\n",
       "      <td>2</td>\n",
       "      <td>42.0</td>\n",
       "      <td>4</td>\n",
       "      <td>4</td>\n",
       "      <td>37000.0</td>\n",
       "    </tr>\n",
       "    <tr>\n",
       "      <th>3</th>\n",
       "      <td>3</td>\n",
       "      <td>Чиланзарский</td>\n",
       "      <td>3</td>\n",
       "      <td>65.0</td>\n",
       "      <td>1</td>\n",
       "      <td>4</td>\n",
       "      <td>49500.0</td>\n",
       "    </tr>\n",
       "    <tr>\n",
       "      <th>4</th>\n",
       "      <td>4</td>\n",
       "      <td>Чиланзарский</td>\n",
       "      <td>3</td>\n",
       "      <td>70.0</td>\n",
       "      <td>3</td>\n",
       "      <td>5</td>\n",
       "      <td>55000.0</td>\n",
       "    </tr>\n",
       "    <tr>\n",
       "      <th>5</th>\n",
       "      <td>5</td>\n",
       "      <td>Чиланзарский</td>\n",
       "      <td>1</td>\n",
       "      <td>28.0</td>\n",
       "      <td>1</td>\n",
       "      <td>4</td>\n",
       "      <td>25500.0</td>\n",
       "    </tr>\n",
       "  </tbody>\n",
       "</table>\n",
       "</div>"
      ],
      "text/plain": [
       "   Unnamed: 0      district  rooms  size  level  max_levels    price\n",
       "2           2  Чиланзарский      2  42.0      4           4  37000.0\n",
       "3           3  Чиланзарский      3  65.0      1           4  49500.0\n",
       "4           4  Чиланзарский      3  70.0      3           5  55000.0\n",
       "5           5  Чиланзарский      1  28.0      1           4  25500.0"
      ]
     },
     "execution_count": 3,
     "metadata": {},
     "output_type": "execute_result"
    }
   ],
   "source": [
    "df=df[df['district']=='Чиланзарский']\n",
    "df.head(4)\n"
   ]
  },
  {
   "cell_type": "code",
   "execution_count": 4,
   "id": "592efb70-3aab-48e0-bc86-b9151ca2bfc0",
   "metadata": {},
   "outputs": [
    {
     "data": {
      "text/plain": [
       "2       42.0\n",
       "3       65.0\n",
       "4       70.0\n",
       "5       28.0\n",
       "6       30.0\n",
       "        ... \n",
       "7217    70.0\n",
       "7235    20.0\n",
       "7246    32.0\n",
       "7258    70.0\n",
       "7277    30.0\n",
       "Name: size, Length: 1616, dtype: float64"
      ]
     },
     "execution_count": 4,
     "metadata": {},
     "output_type": "execute_result"
    }
   ],
   "source": [
    "\n",
    "x=df['size']\n",
    "x"
   ]
  },
  {
   "cell_type": "code",
   "execution_count": 5,
   "id": "a71a7062-6ffe-4646-9e1c-93bf8b457f31",
   "metadata": {},
   "outputs": [
    {
     "data": {
      "text/plain": [
       "2       37000.0\n",
       "3       49500.0\n",
       "4       55000.0\n",
       "5       25500.0\n",
       "6       21200.0\n",
       "         ...   \n",
       "7217    48000.0\n",
       "7235    18500.0\n",
       "7246    28000.0\n",
       "7258    49800.0\n",
       "7277    22914.0\n",
       "Name: price, Length: 1616, dtype: float64"
      ]
     },
     "execution_count": 5,
     "metadata": {},
     "output_type": "execute_result"
    }
   ],
   "source": [
    "y=df['price']\n",
    "y"
   ]
  },
  {
   "cell_type": "code",
   "execution_count": 6,
   "id": "c239f8e7-ced6-4427-9d11-2022498b8ab1",
   "metadata": {},
   "outputs": [
    {
     "data": {
      "text/plain": [
       "740.0264822713249"
      ]
     },
     "execution_count": 6,
     "metadata": {},
     "output_type": "execute_result"
    }
   ],
   "source": [
    "theta1 = np.sum((x-x.mean())*(y-y.mean())) / np.sum((x-x.mean())**2)\n",
    "theta1\n"
   ]
  },
  {
   "cell_type": "code",
   "execution_count": 7,
   "id": "5079816e-7319-4c0d-ade4-246e34ff5b97",
   "metadata": {},
   "outputs": [
    {
     "data": {
      "text/plain": [
       "-195.94911352666531"
      ]
     },
     "execution_count": 7,
     "metadata": {},
     "output_type": "execute_result"
    }
   ],
   "source": [
    "theta0 = y.mean() - theta1 * x.mean()\n",
    "theta0"
   ]
  },
  {
   "cell_type": "code",
   "execution_count": 8,
   "id": "b4a21937-e61e-4584-8c5f-4d6394c536e4",
   "metadata": {},
   "outputs": [],
   "source": [
    "# 2-masala"
   ]
  },
  {
   "cell_type": "code",
   "execution_count": 9,
   "id": "a049aac3-d16d-42c4-af98-1c41a2d3b1c6",
   "metadata": {},
   "outputs": [
    {
     "data": {
      "text/plain": [
       "2       30885.163142\n",
       "3       47905.772234\n",
       "4       51605.904645\n",
       "5       20524.792390\n",
       "6       22004.845355\n",
       "            ...     \n",
       "7217    51605.904645\n",
       "7235    14604.580532\n",
       "7246    23484.898319\n",
       "7258    51605.904645\n",
       "7277    22004.845355\n",
       "Name: size, Length: 1616, dtype: float64"
      ]
     },
     "execution_count": 9,
     "metadata": {},
     "output_type": "execute_result"
    }
   ],
   "source": [
    "y_pre = theta0 + theta1 * x\n",
    "y_pre"
   ]
  },
  {
   "cell_type": "code",
   "execution_count": 10,
   "id": "160a46a1-bada-43a3-a8d5-bef883f60844",
   "metadata": {},
   "outputs": [],
   "source": [
    "import matplotlib.pyplot as plt\n",
    "import seaborn as sns\n",
    "%matplotlib inline"
   ]
  },
  {
   "cell_type": "code",
   "execution_count": 11,
   "id": "c696eac9-bfb3-4e05-ab72-297bed46ca03",
   "metadata": {},
   "outputs": [
    {
     "data": {
      "image/png": "[encoded data removed]",
      "text/plain": [
       "<Figure size 700x400 with 1 Axes>"
      ]
     },
     "metadata": {},
     "output_type": "display_data"
    }
   ],
   "source": [
    "plt.figure(figsize=(7,4))\n",
    "sns.regplot(df,x='size',y='price')\n",
    "plt.show()"
   ]
  },
  {
   "cell_type": "code",
   "execution_count": 12,
   "id": "39e2730f-9cdd-4f70-b6da-4cd0772bf5c2",
   "metadata": {},
   "outputs": [
    {
     "data": {
      "text/plain": [
       "5647    130.0\n",
       "6585     50.0\n",
       "1072     67.0\n",
       "5051     34.0\n",
       "818      51.0\n",
       "210      36.0\n",
       "1879     48.0\n",
       "5199     58.0\n",
       "3964     48.0\n",
       "5548     48.0\n",
       "Name: size, dtype: float64"
      ]
     },
     "execution_count": 12,
     "metadata": {},
     "output_type": "execute_result"
    }
   ],
   "source": [
    "x_sam=x.sample(10)\n",
    "x_sam"
   ]
  },
  {
   "cell_type": "code",
   "execution_count": 13,
   "id": "ab3e7dba-b873-4472-a694-f144fa67de38",
   "metadata": {},
   "outputs": [
    {
     "data": {
      "text/plain": [
       "5647    110000.0\n",
       "6585     37500.0\n",
       "1072     52500.0\n",
       "5051     29000.0\n",
       "818      34500.0\n",
       "210      26500.0\n",
       "1879     31000.0\n",
       "5199     42000.0\n",
       "3964     31000.0\n",
       "5548     34000.0\n",
       "Name: price, dtype: float64"
      ]
     },
     "execution_count": 13,
     "metadata": {},
     "output_type": "execute_result"
    }
   ],
   "source": [
    "y_sam = y.loc[x_sam.index]\n",
    "y_sam"
   ]
  },
  {
   "cell_type": "code",
   "execution_count": 14,
   "id": "7f54b04a-3c0c-49ab-99be-5083076d23c4",
   "metadata": {},
   "outputs": [
    {
     "data": {
      "text/plain": [
       "5647    96007.493582\n",
       "6585    36805.375000\n",
       "1072    49385.825199\n",
       "5051    24964.951284\n",
       "818     37545.401482\n",
       "210     26445.004248\n",
       "1879    35325.322035\n",
       "5199    42725.586858\n",
       "3964    35325.322035\n",
       "5548    35325.322035\n",
       "Name: size, dtype: float64"
      ]
     },
     "execution_count": 14,
     "metadata": {},
     "output_type": "execute_result"
    }
   ],
   "source": [
    "y_predicted = theta0 + theta1*x_sam\n",
    "y_predicted"
   ]
  },
  {
   "cell_type": "code",
   "execution_count": 15,
   "id": "c32d893f-9435-4b2a-8efb-e9aa429cc9bb",
   "metadata": {},
   "outputs": [
    {
     "data": {
      "text/plain": [
       "3563.8305134635207"
      ]
     },
     "execution_count": 15,
     "metadata": {},
     "output_type": "execute_result"
    }
   ],
   "source": [
    "mae = np.sum(np.abs(y_predicted - y_sam)) / len(y_sam)\n",
    "mae"
   ]
  },
  {
   "cell_type": "code",
   "execution_count": 16,
   "id": "f0e572d6-c783-42b5-9457-f721523f1b12",
   "metadata": {},
   "outputs": [
    {
     "data": {
      "text/plain": [
       "1646.905320657516"
      ]
     },
     "execution_count": 16,
     "metadata": {},
     "output_type": "execute_result"
    }
   ],
   "source": [
    "msae = np.sqrt(np.sum((y_sam - y_predicted) ** 2)) / len(y_sam) \n",
    "msae"
   ]
  },
  {
   "cell_type": "code",
   "execution_count": 17,
   "id": "8a03df39-ab47-4f43-9c99-ad91e4193b3a",
   "metadata": {},
   "outputs": [],
   "source": [
    "from sklearn.model_selection import train_test_split\n",
    "train_set,test_set = train_test_split(df,test_size=0.2,random_state=42)"
   ]
  },
  {
   "cell_type": "code",
   "execution_count": 18,
   "id": "16940e29-cb14-4493-8490-77d1681a3160",
   "metadata": {},
   "outputs": [],
   "source": [
    "from sklearn.linear_model import LinearRegression\n",
    "LR_model = LinearRegression()"
   ]
  },
  {
   "cell_type": "code",
   "execution_count": 19,
   "id": "5408c66e-1f46-4abc-b9e4-0cae98bb4015",
   "metadata": {},
   "outputs": [
    {
     "name": "stdout",
     "output_type": "stream",
     "text": [
      "Theta0: 753.8444656913779\n",
      "Theta1 -1009.2734590636028\n"
     ]
    }
   ],
   "source": [
    "x_train = np.asanyarray(train_set[['size']])\n",
    "y_train = np.asanyarray(train_set[['price']])\n",
    "\n",
    "#Modelni tarbiyalash\n",
    "LR_model.fit(x_train,y_train)\n",
    "\n",
    "# y=ax+b thet0=a va theta1=b qiymatlarni ajratib olish\n",
    "theta0 = LR_model.coef_[0][0]\n",
    "theta1 = LR_model.intercept_[0]\n",
    "\n",
    "print(\"Theta0:\",theta0)\n",
    "print(\"Theta1\",theta1)\n"
   ]
  },
  {
   "cell_type": "code",
   "execution_count": null,
   "id": "82816951-9c6b-4618-9719-ab262ca0f72a",
   "metadata": {},
   "outputs": [],
   "source": []
  },
  {
   "cell_type": "code",
   "execution_count": 20,
   "id": "4a27f022-ba12-4ed1-bd84-bbbe898c9852",
   "metadata": {},
   "outputs": [],
   "source": [
    "#Scikit learn"
   ]
  },
  {
   "cell_type": "code",
   "execution_count": 21,
   "id": "03560a30-50a9-467d-826d-e8f6144f46bf",
   "metadata": {},
   "outputs": [],
   "source": [
    "from sklearn.model_selection import train_test_split\n",
    "train_set,test_set = train_test_split(df, test_size = 0.2 ,random_state = 42)"
   ]
  },
  {
   "cell_type": "code",
   "execution_count": 22,
   "id": "58f24ae4-82b7-4351-8823-bc735c4efd33",
   "metadata": {},
   "outputs": [],
   "source": [
    "from sklearn.linear_model import LinearRegression\n",
    "lr_model = LinearRegression()"
   ]
  },
  {
   "cell_type": "code",
   "execution_count": 23,
   "id": "a1be1e4f-e78f-4ef1-bd77-2be211067e3b",
   "metadata": {},
   "outputs": [
    {
     "data": {
      "text/html": [
       "<style>#sk-container-id-1 {color: black;}#sk-container-id-1 pre{padding: 0;}#sk-container-id-1 div.sk-toggleable {background-color: white;}#sk-container-id-1 label.sk-toggleable__label {cursor: pointer;display: block;width: 100%;margin-bottom: 0;padding: 0.3em;box-sizing: border-box;text-align: center;}#sk-container-id-1 label.sk-toggleable__label-arrow:before {content: \"▸\";float: left;margin-right: 0.25em;color: #696969;}#sk-container-id-1 label.sk-toggleable__label-arrow:hover:before {color: black;}#sk-container-id-1 div.sk-estimator:hover label.sk-toggleable__label-arrow:before {color: black;}#sk-container-id-1 div.sk-toggleable__content {max-height: 0;max-width: 0;overflow: hidden;text-align: left;background-color: #f0f8ff;}#sk-container-id-1 div.sk-toggleable__content pre {margin: 0.2em;color: black;border-radius: 0.25em;background-color: #f0f8ff;}#sk-container-id-1 input.sk-toggleable__control:checked~div.sk-toggleable__content {max-height: 200px;max-width: 100%;overflow: auto;}#sk-container-id-1 input.sk-toggleable__control:checked~label.sk-toggleable__label-arrow:before {content: \"▾\";}#sk-container-id-1 div.sk-estimator input.sk-toggleable__control:checked~label.sk-toggleable__label {background-color: #d4ebff;}#sk-container-id-1 div.sk-label input.sk-toggleable__control:checked~label.sk-toggleable__label {background-color: #d4ebff;}#sk-container-id-1 input.sk-hidden--visually {border: 0;clip: rect(1px 1px 1px 1px);clip: rect(1px, 1px, 1px, 1px);height: 1px;margin: -1px;overflow: hidden;padding: 0;position: absolute;width: 1px;}#sk-container-id-1 div.sk-estimator {font-family: monospace;background-color: #f0f8ff;border: 1px dotted black;border-radius: 0.25em;box-sizing: border-box;margin-bottom: 0.5em;}#sk-container-id-1 div.sk-estimator:hover {background-color: #d4ebff;}#sk-container-id-1 div.sk-parallel-item::after {content: \"\";width: 100%;border-bottom: 1px solid gray;flex-grow: 1;}#sk-container-id-1 div.sk-label:hover label.sk-toggleable__label {background-color: #d4ebff;}#sk-container-id-1 div.sk-serial::before {content: \"\";position: absolute;border-left: 1px solid gray;box-sizing: border-box;top: 0;bottom: 0;left: 50%;z-index: 0;}#sk-container-id-1 div.sk-serial {display: flex;flex-direction: column;align-items: center;background-color: white;padding-right: 0.2em;padding-left: 0.2em;position: relative;}#sk-container-id-1 div.sk-item {position: relative;z-index: 1;}#sk-container-id-1 div.sk-parallel {display: flex;align-items: stretch;justify-content: center;background-color: white;position: relative;}#sk-container-id-1 div.sk-item::before, #sk-container-id-1 div.sk-parallel-item::before {content: \"\";position: absolute;border-left: 1px solid gray;box-sizing: border-box;top: 0;bottom: 0;left: 50%;z-index: -1;}#sk-container-id-1 div.sk-parallel-item {display: flex;flex-direction: column;z-index: 1;position: relative;background-color: white;}#sk-container-id-1 div.sk-parallel-item:first-child::after {align-self: flex-end;width: 50%;}#sk-container-id-1 div.sk-parallel-item:last-child::after {align-self: flex-start;width: 50%;}#sk-container-id-1 div.sk-parallel-item:only-child::after {width: 0;}#sk-container-id-1 div.sk-dashed-wrapped {border: 1px dashed gray;margin: 0 0.4em 0.5em 0.4em;box-sizing: border-box;padding-bottom: 0.4em;background-color: white;}#sk-container-id-1 div.sk-label label {font-family: monospace;font-weight: bold;display: inline-block;line-height: 1.2em;}#sk-container-id-1 div.sk-label-container {text-align: center;}#sk-container-id-1 div.sk-container {/* jupyter's `normalize.less` sets `[hidden] { display: none; }` but bootstrap.min.css set `[hidden] { display: none !important; }` so we also need the `!important` here to be able to override the default hidden behavior on the sphinx rendered scikit-learn.org. See: https://github.com/scikit-learn/scikit-learn/issues/21755 */display: inline-block !important;position: relative;}#sk-container-id-1 div.sk-text-repr-fallback {display: none;}</style><div id=\"sk-container-id-1\" class=\"sk-top-container\"><div class=\"sk-text-repr-fallback\"><pre>LinearRegression()</pre><b>In a Jupyter environment, please rerun this cell to show the HTML representation or trust the notebook. <br />On GitHub, the HTML representation is unable to render, please try loading this page with nbviewer.org.</b></div><div class=\"sk-container\" hidden><div class=\"sk-item\"><div class=\"sk-estimator sk-toggleable\"><input class=\"sk-toggleable__control sk-hidden--visually\" id=\"sk-estimator-id-1\" type=\"checkbox\" checked><label for=\"sk-estimator-id-1\" class=\"sk-toggleable__label sk-toggleable__label-arrow\">LinearRegression</label><div class=\"sk-toggleable__content\"><pre>LinearRegression()</pre></div></div></div></div></div>"
      ],
      "text/plain": [
       "LinearRegression()"
      ]
     },
     "execution_count": 23,
     "metadata": {},
     "output_type": "execute_result"
    }
   ],
   "source": [
    "x_train = np.asanyarray(train_set[['size']])\n",
    "y_train = np.asanyarray(train_set[['price']])\n",
    "\n",
    "# modelni o'qitamiz\n",
    "lr_model.fit(x_train,y_train)\n",
    "\n"
   ]
  },
  {
   "cell_type": "code",
   "execution_count": 24,
   "id": "0633fd90-5fe1-47df-9583-475be1e490f4",
   "metadata": {},
   "outputs": [
    {
     "name": "stdout",
     "output_type": "stream",
     "text": [
      "Theta 0 = 753.8444656913779\n",
      "Theta 0 = -1009.2734590636028\n"
     ]
    }
   ],
   "source": [
    "print(f\"Theta 0 =\",lr_model.coef_[0][0])\n",
    "print(f\"Theta 0 =\",lr_model.intercept_[0])"
   ]
  },
  {
   "cell_type": "code",
   "execution_count": 25,
   "id": "18e1158e-3892-439c-a6b6-fd3b66bf19b8",
   "metadata": {},
   "outputs": [
    {
     "ename": "NameError",
     "evalue": "name 'housing' is not defined",
     "output_type": "error",
     "traceback": [
      "\u001b[1;31m---------------------------------------------------------------------------\u001b[0m",
      "\u001b[1;31mNameError\u001b[0m                                 Traceback (most recent call last)",
      "Cell \u001b[1;32mIn[25], line 2\u001b[0m\n\u001b[0;32m      1\u001b[0m plt\u001b[38;5;241m.\u001b[39mfigure(figsize\u001b[38;5;241m=\u001b[39m(\u001b[38;5;241m10\u001b[39m,\u001b[38;5;241m6\u001b[39m))\n\u001b[1;32m----> 2\u001b[0m sns\u001b[38;5;241m.\u001b[39mscatterplot(data\u001b[38;5;241m=\u001b[39m\u001b[43mhousing\u001b[49m,x \u001b[38;5;241m=\u001b[39m \u001b[38;5;124m'\u001b[39m\u001b[38;5;124msize\u001b[39m\u001b[38;5;124m'\u001b[39m , y \u001b[38;5;241m=\u001b[39m \u001b[38;5;124m'\u001b[39m\u001b[38;5;124mprice\u001b[39m\u001b[38;5;124m'\u001b[39m)\n\u001b[0;32m      3\u001b[0m plt\u001b[38;5;241m.\u001b[39mplot(x_train, theta0\u001b[38;5;241m+\u001b[39mtheta1\u001b[38;5;241m*\u001b[39mx,\u001b[38;5;124m'\u001b[39m\u001b[38;5;124m-r\u001b[39m\u001b[38;5;124m'\u001b[39m)\n\u001b[0;32m      4\u001b[0m plt\u001b[38;5;241m.\u001b[39mshow()\n",
      "\u001b[1;31mNameError\u001b[0m: name 'housing' is not defined"
     ]
    },
    {
     "data": {
      "text/plain": [
       "<Figure size 1000x600 with 0 Axes>"
      ]
     },
     "metadata": {},
     "output_type": "display_data"
    }
   ],
   "source": [
    "plt.figure(figsize=(10,6))\n",
    "sns.scatterplot(data=housing,x = 'size' , y = 'price')\n",
    "plt.plot(x_train, theta0+theta1*x,'-r')\n",
    "plt.show()"
   ]
  },
  {
   "cell_type": "code",
   "execution_count": null,
   "id": "73c04494-5148-419f-b916-ba0735b9eff1",
   "metadata": {},
   "outputs": [],
   "source": [
    "x_test = np.asanyarray(test_set[['size']])\n",
    "y_test = np.asanyarray(test_set[['price']])"
   ]
  },
  {
   "cell_type": "code",
   "execution_count": null,
   "id": "960eafbf-1ca7-4898-988b-092270e8d356",
   "metadata": {},
   "outputs": [],
   "source": [
    "from sklearn.metrics import mean_absolute_error , mean_squared_error\n",
    "y_pre = lr_model.predict(x_test)"
   ]
  },
  {
   "cell_type": "code",
   "execution_count": null,
   "id": "693fd18a-05fc-485a-813d-6505de2e8edd",
   "metadata": {},
   "outputs": [],
   "source": [
    "msae = np.sqrt(mean_squared_error(y_pre , y_test))\n",
    "msae"
   ]
  },
  {
   "cell_type": "code",
   "execution_count": null,
   "id": "c45c86e0-ca69-4114-957f-3a426d822e06",
   "metadata": {},
   "outputs": [],
   "source": [
    "mae  = mean_absolute_error(y_pre,y_test)\n",
    "mae"
   ]
  },
  {
   "cell_type": "code",
   "execution_count": null,
   "id": "79ecbac1-3524-45ca-8cdf-99047256ce5f",
   "metadata": {},
   "outputs": [],
   "source": [
    "#amaliyot"
   ]
  },
  {
   "cell_type": "code",
   "execution_count": null,
   "id": "4c7c6e7d-9776-4dca-b5c8-7955b85ba2ed",
   "metadata": {},
   "outputs": [],
   "source": [
    "df=pd.read_csv(\"https://raw.githubusercontent.com/anvarnarz/praktikum_datasets/main/reklama_sales.csv\")\n",
    "df.head(5)"
   ]
  },
  {
   "cell_type": "code",
   "execution_count": null,
   "id": "b0e253d9-77a5-4bfa-979f-506202748c57",
   "metadata": {},
   "outputs": [],
   "source": [
    "for i in list(df.columns):\n",
    "    plt.figure(figsize = (8,3))\n",
    "    sns.scatterplot(df , x =df['Sales'], y = i)\n",
    "    plt.show()\n",
    "    \n",
    "    "
   ]
  },
  {
   "cell_type": "code",
   "execution_count": null,
   "id": "206b6d64-c638-4a6d-a6ae-080cf41b9e59",
   "metadata": {},
   "outputs": [],
   "source": [
    "train_set,test_set =train_test_split(df,test_size = 0.2 , random_state = 42)\n",
    "x_train = np.asanyarray(train_set[['TV']])\n",
    "y_train = np.asanyarray(train_set[['Sales']])"
   ]
  },
  {
   "cell_type": "code",
   "execution_count": null,
   "id": "6e3beaa3-7f10-4912-b475-bb33a89c3199",
   "metadata": {},
   "outputs": [],
   "source": [
    "lr_model.fit(x_train , y_train)"
   ]
  },
  {
   "cell_type": "code",
   "execution_count": null,
   "id": "a0097e8a-f4db-4411-9544-3eb05c3f4972",
   "metadata": {},
   "outputs": [],
   "source": [
    "x_test = np.asanyarray(test_set[['TV']])\n",
    "y_test = np.asanyarray(test_set[['Sales']])\n"
   ]
  },
  {
   "cell_type": "code",
   "execution_count": null,
   "id": "7cd58b22-6eb6-40e1-8705-37a7b18048f9",
   "metadata": {},
   "outputs": [],
   "source": [
    "y_predicted = lr_model.predict(x_test)\n"
   ]
  },
  {
   "cell_type": "code",
   "execution_count": null,
   "id": "e1afa3e3-bace-4db2-9c38-37e6d089e217",
   "metadata": {},
   "outputs": [],
   "source": [
    "mae = mean_absolute_error(y_test , y_predicted)\n",
    "mae"
   ]
  },
  {
   "cell_type": "code",
   "execution_count": null,
   "id": "9debb304-e749-48fd-bbad-e549e0bff216",
   "metadata": {},
   "outputs": [],
   "source": [
    "msae = np.sqrt(mean_absolute_error(y_test , y_predicted))\n",
    "msae"
   ]
  },
  {
   "cell_type": "code",
   "execution_count": null,
   "id": "c0869c32-3a1a-4775-a052-80b5fe905042",
   "metadata": {},
   "outputs": [],
   "source": [
    "#Multiple Linear Regression"
   ]
  },
  {
   "cell_type": "code",
   "execution_count": null,
   "id": "a314706d-c4cf-4249-a75b-8cd4decd087e",
   "metadata": {},
   "outputs": [],
   "source": [
    "df1=pd.read_csv(\"https://raw.githubusercontent.com/anvarnarz/praktikum_datasets/ca6719dea56242762bba73d073a59cb5b898467a/housing_LR.csv\" , index_col = 0)\n",
    "print(len(df))\n",
    "df1.head(5)"
   ]
  },
  {
   "cell_type": "code",
   "execution_count": null,
   "id": "3e9b4cba-9d1e-4d1c-82cb-03068fd7a4b3",
   "metadata": {},
   "outputs": [],
   "source": [
    "housing = df[df.district == 'Чиланзарский']\n",
    "housing = housing.drop('Unnamed: 0',axis=1)\n",
    "housing"
   ]
  },
  {
   "cell_type": "code",
   "execution_count": null,
   "id": "04f5da58-314a-4673-9437-c1a0bb153aae",
   "metadata": {},
   "outputs": [],
   "source": [
    "from sklearn.model_selection import train_test_split\n",
    "x,y = train_test_split(housing,test_size = 0.2 , random_state = 42)"
   ]
  },
  {
   "cell_type": "code",
   "execution_count": null,
   "id": "cc7f2cda-a7e5-434f-a653-1717ae2a2912",
   "metadata": {},
   "outputs": [],
   "source": [
    "import seaborn as sns\n",
    "import matplotlib.pyplot as plt\n",
    "%matplotlib inline\n",
    "\n",
    "plt.figure(figsize=(10,4))\n",
    "sns.pairplot(df[['size','price','level','rooms','max_levels']])\n",
    "plt.show()"
   ]
  },
  {
   "cell_type": "code",
   "execution_count": null,
   "id": "170fab6e-700e-4768-a14e-92e46d037cac",
   "metadata": {},
   "outputs": [],
   "source": [
    "lr_model = LinearRegression()\n",
    "\n",
    "#x_train = np.asanyarray(x[['rooms', 'size', 'level', 'max_levels']])\n",
    "x_train = np.asanyarray(x[['size', 'max_levels']])\n",
    "y_train = np.asanyarray(x[['price']])\n",
    "\n",
    "lr_model.fit(x_train , y_train)"
   ]
  },
  {
   "cell_type": "code",
   "execution_count": null,
   "id": "20f5d6cd-03d9-4e95-a49c-4e554c194443",
   "metadata": {},
   "outputs": [],
   "source": [
    "print(f\"theta0 :{lr_model.coef_}\")\n",
    "print(f\"theta1 :{lr_model.intercept_}\")"
   ]
  },
  {
   "cell_type": "code",
   "execution_count": null,
   "id": "17f29518-af91-44be-b5f1-4db5f9a29cbc",
   "metadata": {
    "scrolled": true
   },
   "outputs": [],
   "source": [
    "x_t = np.asanyarray(y[['size','max_levels']])\n",
    "y_t = np.asanyarray(y[['price']])\n",
    "\n",
    "y_p = lr_model.predict(x_t)"
   ]
  },
  {
   "cell_type": "code",
   "execution_count": null,
   "id": "848f872d-8ecf-4d1f-8151-32c146af515f",
   "metadata": {},
   "outputs": [],
   "source": [
    "from sklearn.metrics import mean_absolute_error , mean_squared_error"
   ]
  },
  {
   "cell_type": "code",
   "execution_count": null,
   "id": "451c3e84-1cd4-4b2a-a548-e4ded09b430b",
   "metadata": {},
   "outputs": [],
   "source": [
    "mae = mean_absolute_error(y_t,y_p)\n",
    "msae = np.sqrt(mean_squared_error(y_t , y_p))\n",
    "mae , msae"
   ]
  },
  {
   "cell_type": "code",
   "execution_count": null,
   "id": "c8d7c810-e280-40ee-bc7e-fc63b1588d0c",
   "metadata": {},
   "outputs": [],
   "source": []
  },
  {
   "cell_type": "code",
   "execution_count": 26,
   "id": "f70aec82-202c-467d-ab29-57d7092fcf57",
   "metadata": {},
   "outputs": [],
   "source": [
    "#Curve_fit"
   ]
  },
  {
   "cell_type": "code",
   "execution_count": null,
   "id": "adaacad4-7877-44d2-82a7-308ffb4488b3",
   "metadata": {},
   "outputs": [],
   "source": []
  },
  {
   "cell_type": "code",
   "execution_count": null,
   "id": "9b694b09-c73b-4353-88f7-b26cae770ed2",
   "metadata": {},
   "outputs": [],
   "source": []
  }
 ],
 "metadata": {
  "kernelspec": {
   "display_name": "Python 3 (ipykernel)",
   "language": "python",
   "name": "python3"
  },
  "language_info": {
   "codemirror_mode": {
    "name": "ipython",
    "version": 3
   },
   "file_extension": ".py",
   "mimetype": "text/x-python",
   "name": "python",
   "nbconvert_exporter": "python",
   "pygments_lexer": "ipython3",
   "version": "3.10.2"
  }
 },
 "nbformat": 4,
 "nbformat_minor": 5
}
